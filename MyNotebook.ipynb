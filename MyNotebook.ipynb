{
  "metadata": {
    "kernelspec": {
      "name": "python",
      "display_name": "Pyolite",
      "language": "python"
    },
    "language_info": {
      "codemirror_mode": {
        "name": "python",
        "version": 3
      },
      "file_extension": ".py",
      "mimetype": "text/x-python",
      "name": "python",
      "nbconvert_exporter": "python",
      "pygments_lexer": "ipython3",
      "version": "3.8"
    }
  },
  "nbformat_minor": 4,
  "nbformat": 4,
  "cells": [
    {
      "cell_type": "markdown",
      "source": "<center>\n    <img src=\"https://cf-courses-data.s3.us.cloud-object-storage.appdomain.cloud/IBMDeveloperSkillsNetwork-DS0105EN-SkillsNetwork/labs/Module2/images/SN_web_lightmode.png\" width=\"300\" alt=\"cognitiveclass.ai logo\">\n</center>\n",
      "metadata": {}
    },
    {
      "cell_type": "markdown",
      "source": "#### Add your code below following the instructions given in the course\n",
      "metadata": {}
    },
    {
      "cell_type": "markdown",
      "source": "<h1>My Jupyter Notebook on Skill Networks Lab</h1>",
      "metadata": {}
    },
    {
      "cell_type": "markdown",
      "source": "<p>Name: Priyotosh Garai </p>\n<br><p>Student</p>",
      "metadata": {}
    },
    {
      "cell_type": "markdown",
      "source": "<p> I am interested in data science because I have interested in statistics and I want to explore the subject technologically by data science. </p>",
      "metadata": {}
    },
    {
      "cell_type": "markdown",
      "source": "<h3>My code is going to multiply 3 and 4 which will give output as 12.</h3>",
      "metadata": {}
    },
    {
      "cell_type": "code",
      "source": "3*4",
      "metadata": {
        "trusted": true
      },
      "execution_count": 6,
      "outputs": [
        {
          "execution_count": 6,
          "output_type": "execute_result",
          "data": {
            "text/plain": "12"
          },
          "metadata": {}
        }
      ]
    },
    {
      "cell_type": "markdown",
      "source": "<hr>\n<p>Name of some cities</p>\n<ul>\n    <li>Kolkata</li>\n    <li>Chennai</li>\n    <li>Bangalore</li>\n</ul>\n<p>Name of some fruits </p>\n<ol>\n    <li>Apple</li>\n    <li>Mango</li>\n    <li></li>\n     \n    ",
      "metadata": {}
    }
  ]
}